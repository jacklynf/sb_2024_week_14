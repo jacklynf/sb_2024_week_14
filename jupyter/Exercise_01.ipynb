{
 "cells": [
  {
   "cell_type": "markdown",
   "id": "06c2b7ff-f6d4-4fea-b022-e892738bc871",
   "metadata": {},
   "source": [
    "# Exercise 01: Gradient Descent\n",
    "\n",
    "**Learn a bit about gradient descent from videos, web pages, books, etc., and summarize some key concepts below.  Cite your sources.**"
   ]
  },
  {
   "cell_type": "markdown",
   "id": "c861191f-c517-448c-9ea9-45ee8e5b4ed8",
   "metadata": {},
   "source": [
    "From [Khan Academy](https://www.khanacademy.org/math/multivariable-calculus/applications-of-multivariable-derivatives/optimizing-multivariable-functions/a/what-is-gradient-descent):\n",
    "\n",
    "Gradient descent is an algorithm that estimates where a function outputs its lowest values. This algorithm finds local minima, and does not differentiate between local and global minima. Gradient descent does not need to know the function, and instead estimates the minima using the numerical output of the function. Gradient descent is especially helpful when a formula is very complex or has a lot of variables, as it becomes increasingly difficult to solve for the global minimum.\n",
    "\n",
    "Depending on the step size you use for gradient descent, you may end up finding different local minima. Once the algorithm finds a local minimum, it will not be able to find any other minima unless its step size is larger than the size of the ditch of the current local minimum.\n",
    "\n",
    "Choosing the right step size is important for this algorithm. You want the step size to be large enough that you find the minimum quickly, but a step size that is too large will skip right over a minimum, possibly missing it entirely.  This is because the algorithm is designed to \"go down\" - if taking the next step leads to a larger output than the previous step, the algorithm quits. So, if taking step n finds output X, and step n+1 finds output Y, and Y>X, the algorithm will converge at step n. But if the step size from step n to step n+1 was large enough, it could have completely skipped over a minimum value."
   ]
  },
  {
   "cell_type": "code",
   "execution_count": null,
   "id": "bee44649-6d6f-4d15-97f1-93e3b963aa46",
   "metadata": {},
   "outputs": [],
   "source": []
  }
 ],
 "metadata": {
  "kernelspec": {
   "display_name": "Python 3 (ipykernel)",
   "language": "python",
   "name": "python3"
  },
  "language_info": {
   "codemirror_mode": {
    "name": "ipython",
    "version": 3
   },
   "file_extension": ".py",
   "mimetype": "text/x-python",
   "name": "python",
   "nbconvert_exporter": "python",
   "pygments_lexer": "ipython3",
   "version": "3.10.13"
  }
 },
 "nbformat": 4,
 "nbformat_minor": 5
}

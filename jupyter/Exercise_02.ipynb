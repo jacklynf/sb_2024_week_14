{
 "cells": [
  {
   "cell_type": "markdown",
   "id": "fa481f8d-cb1b-4b31-b441-11c6b40b7356",
   "metadata": {},
   "source": [
    "# Exercise 02: Weighted Least Squares\n",
    "\n",
    "**Learn a bit about weighted least squared (WLS) from videos, web pages, books, etc., and summarize some key concepts below.  Cite your sources.**"
   ]
  },
  {
   "cell_type": "markdown",
   "id": "174cea75-dc6a-4816-9eea-0a14a2c80b4c",
   "metadata": {},
   "source": [
    "From [YouTube](https://youtu.be/wCJ8I-MtJdQ?si=nyBH-W9ckzLuXvqG):\n",
    "\n",
    "This is a method used to fit a model to data points while giving varying values of \"importance\" to different points. \n",
    "\n",
    "In least squares, all data points are treated equally, or can be considered to have a weight of 1. The purpose of least squares is to minimize the sum of the differences between the actual data points and the prediction made by the model.\n",
    "\n",
    "In weighted least squares, each data point is given a weight based on its importance or reliability. If a point has a higher weight, it will have moreinfluence on the model and therefore the model will try harder to fit that point more closely."
   ]
  },
  {
   "cell_type": "code",
   "execution_count": null,
   "id": "d38d9857-21fd-4dd8-8333-07fef40403da",
   "metadata": {},
   "outputs": [],
   "source": []
  }
 ],
 "metadata": {
  "kernelspec": {
   "display_name": "Python 3 (ipykernel)",
   "language": "python",
   "name": "python3"
  },
  "language_info": {
   "codemirror_mode": {
    "name": "ipython",
    "version": 3
   },
   "file_extension": ".py",
   "mimetype": "text/x-python",
   "name": "python",
   "nbconvert_exporter": "python",
   "pygments_lexer": "ipython3",
   "version": "3.10.13"
  }
 },
 "nbformat": 4,
 "nbformat_minor": 5
}

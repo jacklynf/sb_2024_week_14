{
 "cells": [
  {
   "cell_type": "markdown",
   "id": "60483b6a-a586-4457-b05b-fad7a89cfc95",
   "metadata": {},
   "source": [
    "# Exercise 03: Confidence Intervals and Error Ellipses\n",
    "\n",
    "**Learn a bit about confidence intervals and error ellipses from videos, web pages, books, etc., and summarize some key concepts below.  Cite your sources.**"
   ]
  },
  {
   "cell_type": "markdown",
   "id": "76203eaa-45f0-4240-8488-f9626e50a308",
   "metadata": {},
   "source": [
    "YOUR ANSWER HERE"
   ]
  },
  {
   "cell_type": "code",
   "execution_count": null,
   "id": "edd39441-e220-43fe-9cc9-317c3ded4da0",
   "metadata": {},
   "outputs": [],
   "source": []
  }
 ],
 "metadata": {
  "kernelspec": {
   "display_name": "Python 3 (ipykernel)",
   "language": "python",
   "name": "python3"
  },
  "language_info": {
   "codemirror_mode": {
    "name": "ipython",
    "version": 3
   },
   "file_extension": ".py",
   "mimetype": "text/x-python",
   "name": "python",
   "nbconvert_exporter": "python",
   "pygments_lexer": "ipython3",
   "version": "3.10.13"
  }
 },
 "nbformat": 4,
 "nbformat_minor": 5
}

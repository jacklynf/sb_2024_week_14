{
 "cells": [
  {
   "cell_type": "markdown",
   "id": "60483b6a-a586-4457-b05b-fad7a89cfc95",
   "metadata": {},
   "source": [
    "# Exercise 03: Confidence Intervals and Error Ellipses\n",
    "\n",
    "**Learn a bit about confidence intervals and error ellipses from videos, web pages, books, etc., and summarize some key concepts below.  Cite your sources.**"
   ]
  },
  {
   "cell_type": "markdown",
   "id": "76203eaa-45f0-4240-8488-f9626e50a308",
   "metadata": {},
   "source": [
    "A confidence interval is a range of values that is likely to contain an unknown population parameter. The estimated range is calculated from a given set of sample data (from [Yale](http://www.stat.yale.edu/Courses/1997-98/101/confint.htm)). For example, if we want to estimate the population mean from the sample mean, a 95% confidence interval would mean that we're 95% confident that the actual population mean falls within the interval. The width of the confidence interval is influenced by factors such as the sample size, variability of the data, and the chosen level of confidence (e.g., 95% confidence, 99% confidence, etc.).\n",
    "\n",
    "\n",
    "An error ellipse is a graphical representation  of the uncertainty of an estimated parameter. The ellipse is a way to represent the 2D confidence interval of 2D normally distributed data (from [here](https://users.cs.utah.edu/~tch/CS6640F2020/resources/How%20to%20draw%20a%20covariance%20error%20ellipse.pdf)). The orientation of the ellipse is determined by the covariance of the parameters, with a tilted ellipse having high correlation, and a horizontal or vertical ellipse having no correlation."
   ]
  },
  {
   "cell_type": "code",
   "execution_count": null,
   "id": "edd39441-e220-43fe-9cc9-317c3ded4da0",
   "metadata": {},
   "outputs": [],
   "source": []
  }
 ],
 "metadata": {
  "kernelspec": {
   "display_name": "Python 3 (ipykernel)",
   "language": "python",
   "name": "python3"
  },
  "language_info": {
   "codemirror_mode": {
    "name": "ipython",
    "version": 3
   },
   "file_extension": ".py",
   "mimetype": "text/x-python",
   "name": "python",
   "nbconvert_exporter": "python",
   "pygments_lexer": "ipython3",
   "version": "3.10.13"
  }
 },
 "nbformat": 4,
 "nbformat_minor": 5
}
